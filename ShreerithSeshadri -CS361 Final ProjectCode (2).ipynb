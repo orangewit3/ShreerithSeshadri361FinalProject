{
 "cells": [
  {
   "cell_type": "code",
   "execution_count": 29,
   "metadata": {},
   "outputs": [],
   "source": [
    "import pandas as pd\n",
    "import numpy as np\n",
    "from sklearn.cluster import KMeans\n",
    "from sklearn.ensemble import RandomForestClassifier\n",
    "from sklearn.model_selection import train_test_split\n",
    "from sklearn import metrics\n",
    "import glob\n",
    "from collections import Counter\n",
    "import matplotlib.pyplot as plt\n",
    "from mpl_toolkits import mplot3d"
   ]
  },
  {
   "cell_type": "code",
   "execution_count": 8,
   "metadata": {},
   "outputs": [
    {
     "name": "stdout",
     "output_type": "stream",
     "text": [
      "         x   y   z\n",
      "0       16  45  34\n",
      "1       16  45  33\n",
      "2       16  44  35\n",
      "3       16  46  36\n",
      "4       15  44  36\n",
      "5       14  44  35\n",
      "6       14  44  36\n",
      "7       15  45  36\n",
      "8       14  43  36\n",
      "9       14  44  37\n",
      "10      15  44  37\n",
      "11      15  43  36\n",
      "12      16  45  35\n",
      "13      15  44  36\n",
      "14      14  44  36\n",
      "15      14  43  36\n",
      "16      16  45  36\n",
      "17      16  44  36\n",
      "18      14  44  36\n",
      "19      14  44  37\n",
      "20      13  45  37\n",
      "21      15  46  37\n",
      "22      12  47  38\n",
      "23      14  49  38\n",
      "24      15  48  38\n",
      "25      17  49  39\n",
      "26      18  51  38\n",
      "27      22  50  41\n",
      "28      25  51  41\n",
      "29      27  50  40\n",
      "...     ..  ..  ..\n",
      "341419  12  33  36\n",
      "341420  13  33  34\n",
      "341421  12  32  37\n",
      "341422  13  32  36\n",
      "341423  11  32  35\n",
      "341424  12  33  36\n",
      "341425  12  33  36\n",
      "341426  11  32  36\n",
      "341427  12  33  36\n",
      "341428  12  32  36\n",
      "341429  12  32  36\n",
      "341430  13  31  35\n",
      "341431  11  32  36\n",
      "341432  12  32  36\n",
      "341433  13  32  36\n",
      "341434  12  32  36\n",
      "341435  12  32  35\n",
      "341436  13  33  35\n",
      "341437  13  32  37\n",
      "341438  12  32  34\n",
      "341439  10  32  37\n",
      "341440  13  33  37\n",
      "341441  11  31  35\n",
      "341442  12  30  35\n",
      "341443  12  30  36\n",
      "341444  13  33  37\n",
      "341445  12  33  35\n",
      "341446  12  32  36\n",
      "341447  12  32  35\n",
      "341448  12  31  35\n",
      "\n",
      "[341449 rows x 3 columns]\n"
     ]
    }
   ],
   "source": [
    "actions_label_set = [\"Brush_teeth\", \"Climb_stairs\", \"Comb_hair\", \"Descend_stairs\", \"Drink_glass\", \"Eat_meat\", \n",
    "                     \"Eat_soup\", \"Liedown_bed\", \"Pour_water\", \"Sitdown_chair\", \"Walk\", \"Use_telephone\", \n",
    "                     \"Standup_chair\", \"Getup_bed\"]\n",
    "label_to_data_training = {}\n",
    "label_to_data_validation = {}\n",
    "label_to_data_testing = {}\n",
    "\n",
    "df_training = pd.DataFrame(columns=[\"x\", \"y\", \"z\"])\n",
    "for label in actions_label_set:\n",
    "    files = glob.glob(\"/Users/18219/Desktop/data/training/\" + label + \"/*txt\")\n",
    "    data = []\n",
    "    for file_name in files:\n",
    "        df_temp = pd.read_csv(file_name, sep=\" \", header=None, names=[\"x\", \"y\", \"z\"])\n",
    "        df_training = df_training.append(df_temp, ignore_index=True)\n",
    "        data.append(np.array(df_temp))\n",
    "    label_to_data_training[label] = data\n",
    "\n",
    "\n",
    "df_validation = pd.DataFrame(columns=[\"x\", \"y\", \"z\"])\n",
    "for label in actions_label_set:\n",
    "    files = glob.glob(\"/Users/18219/Desktop/data/validation/\" + label + \"/*txt\")\n",
    "    data = []\n",
    "    for file_name in files:\n",
    "        df_temp = pd.read_csv(file_name, sep=\" \", header=None, names=[\"x\", \"y\", \"z\"])\n",
    "        df_validation = df_validation.append(df_temp, ignore_index=True)\n",
    "        data.append(np.array(df_temp))\n",
    "    label_to_data_validation[label] = data\n",
    "\n",
    "df_testing = pd.DataFrame(columns=[\"x\", \"y\", \"z\"])\n",
    "for label in actions_label_set:\n",
    "    files = glob.glob(\"/Users/18219/Desktop/data/testing/\" + label + \"/*txt\")\n",
    "    data = []\n",
    "    for file_name in files:\n",
    "        df_temp = pd.read_csv(file_name, sep=\" \", header=None, names=[\"x\", \"y\", \"z\"])\n",
    "        df_testing = df_testing.append(df_temp, ignore_index=True)\n",
    "        data.append(np.array(df_temp))\n",
    "    label_to_data_testing[label] = data\n"
   ]
  },
  {
   "cell_type": "code",
   "execution_count": 13,
   "metadata": {},
   "outputs": [],
   "source": [
    "#partition data into d parts\n",
    "def train_kmeans_model(segment_length, num_of_clusters, df):\n",
    "    partitioned_vectors = []\n",
    "    num_of_parts = int(len(df)/segment_length)\n",
    "    df_updated = np.array(df[0:(segment_length * num_of_parts)])\n",
    "\n",
    "    training_examples = np.split(df_updated, num_of_parts)\n",
    "    for training_example in training_examples:\n",
    "        reshaped_vector = np.reshape(training_example, (1, (segment_length * 3)))\n",
    "        partitioned_vectors.append(reshaped_vector[0])\n",
    "\n",
    "    kmeans = KMeans(n_clusters=num_of_clusters, random_state=0).fit(partitioned_vectors)\n",
    "    return kmeans\n",
    "\n"
   ]
  },
  {
   "cell_type": "code",
   "execution_count": 20,
   "metadata": {},
   "outputs": [],
   "source": [
    "\n",
    "\n",
    "def obtain_feature_vectors(segment_length, kmeans, label_to_data):\n",
    "    class_labels = []\n",
    "    feature_vectors = []\n",
    "    training_examples = {}\n",
    "    label_to_class = dict(zip(actions_label_set, range(0,len(actions_label_set))))\n",
    "    \n",
    "    for label in actions_label_set:\n",
    "        all_file_data = label_to_data[label]\n",
    "        for file_data in all_file_data:\n",
    "            feature_vector = get_feature_vector(file_data, segment_length, kmeans)\n",
    "            feature_vectors.append(feature_vector)\n",
    "            class_labels.append(label_to_class[label])\n",
    "    training_examples[0] = feature_vectors\n",
    "    training_examples[1] = class_labels\n",
    "    return training_examples\n",
    "    \n",
    "def get_feature_vector(raw_data, segment_length, kmeans):\n",
    "    parts = int(len(raw_data)/segment_length)\n",
    "    data = np.split(raw_data[0:(segment_length * parts)], parts)\n",
    "    training_examples = []\n",
    "    for data_item in data:\n",
    "        sliced_data = np.reshape(data_item, (1, (segment_length * 3)))\n",
    "        training_examples.append(sliced_data[0])\n",
    "    cluster_count = kmeans.predict(training_examples)\n",
    "    return get_cluster_histogram(cluster_count)\n",
    "\n",
    "def get_cluster_histogram(cluster_count):\n",
    "    features = [0 for i in range(400)]\n",
    "    cluster_count_histogram = dict(Counter(cluster_count))\n",
    "    for key, value in cluster_count_histogram.items():\n",
    "        features[key] = value\n",
    "    return features\n",
    "\n"
   ]
  },
  {
   "cell_type": "code",
   "execution_count": 85,
   "metadata": {},
   "outputs": [
    {
     "name": "stdout",
     "output_type": "stream",
     "text": [
      "300\n",
      "300\n",
      "300\n",
      "300\n",
      "{(40, 6): 0.7528089887640449, (80, 8): 0.7528089887640449, (200, 10): 0.7865168539325843, (120, 38): 0.7640449438202247}\n",
      "{(73, 50): 0.7078651685393258, (119, 5): 0.8089887640449438, (167, 25): 0.7865168539325843, (57, 15): 0.7640449438202247}\n"
     ]
    }
   ],
   "source": [
    "def calculate_accuracy(d, k, df_training):\n",
    "    kmeans = train_kmeans_model(d, k, df_training)\n",
    "    training = obtain_feature_vectors(d, kmeans, label_to_data_training)\n",
    "    validation = obtain_feature_vectors(d, kmeans, label_to_data_validation)\n",
    "    classifier = RandomForestClassifier(n_estimators=100)\n",
    "    classifier.fit(training[0], training[1])\n",
    "    classified_labels = classifier.predict(validation[0])\n",
    "    accuracy = metrics.accuracy_score(validation[1], classified_labels)\n",
    "    return accuracy\n",
    "\n",
    "d_lower = d_values_range[0]\n",
    "d_upper = d_values_range[1]\n",
    "\n",
    "def find_d_range(d_lower, d_upper, k, iterations):\n",
    "    i = 0\n",
    "    while (i < iterations):\n",
    "        acc_lower = calculate_accuracy(d_lower, k, df_training)\n",
    "        acc_upper = calculate_accuracy(d_upper, k, df_training)\n",
    "        if acc_upper > acc_lower:\n",
    "            d_lower = int((d_upper + d_lower)/2)\n",
    "        else:\n",
    "            d_upper = int((d_upper + d_lower)/2)\n",
    "        i = i + 1\n",
    "    return (d_lower, d_upper)\n",
    "\n",
    "def find_k_range(k_lower, k_upper, d, iterations):\n",
    "    i = 0\n",
    "    while (i < iterations):\n",
    "        acc_lower = calculate_accuracy(d, k_lower, df_training)\n",
    "        acc_upper = calculate_accuracy(d, k_upper, df_training)\n",
    "        if acc_upper > acc_lower:\n",
    "            k_lower = int((k_upper + k_lower)/2)\n",
    "        else:\n",
    "            k_upper = int((k_upper + k_lower)/2)\n",
    "        i = i + 1\n",
    "    return (k_lower, k_upper)\n",
    "\n",
    "def get_optimal_k():\n",
    "    k_d_graph_values = {}\n",
    "    d_values = [5, 15, 25, 50]\n",
    "    for d in d_values:\n",
    "        k_range = find_k_range(50, 300, d, 4)\n",
    "        overall_accuracy = calculate_accuracy(d, int((k_range[0] + k_range[1])/2), df_training)\n",
    "        k_d_graph_values[(int((k_range[0] + k_range[1])/2), d)] = overall_accuracy\n",
    "    return k_d_graph_values\n",
    "\n",
    "def get_optimal_d():\n",
    "    k_d_graph_values = {}\n",
    "    k_values = [40, 80, 120, 200]\n",
    "    for k in k_values:\n",
    "        d_range = find_d_range(5, 40, k, 4)\n",
    "        overall_accuracy = calculate_accuracy(int((d_range[0] + d_range[1])/2), k, df_training)\n",
    "        k_d_graph_values[k, (int((d_range[0] + d_range[1])/2))] = overall_accuracy\n",
    "    return k_d_graph_values\n",
    "\n",
    "points_d = get_optimal_d()\n",
    "points_k = get_optimal_k()"
   ]
  },
  {
   "cell_type": "code",
   "execution_count": 86,
   "metadata": {},
   "outputs": [
    {
     "data": {
      "image/png": "[encoded data removed]",
      "text/plain": [
       "<matplotlib.figure.Figure at 0x1175b7ad0>"
      ]
     },
     "metadata": {
      "needs_background": "light"
     },
     "output_type": "display_data"
    }
   ],
   "source": [
    "ax = plt.axes(projection='3d')\n",
    "x_data = []\n",
    "y_data = []\n",
    "z_data = []\n",
    "\n",
    "for key, value in points_d.items():\n",
    "    x_data.append(key[0])\n",
    "    y_data.append(key[1])\n",
    "    z_data.append(value)\n",
    "    \n",
    "for key, value in points_k.items():\n",
    "    x_data.append(key[0])\n",
    "    y_data.append(key[1])\n",
    "    z_data.append(value)\n",
    "\n",
    "ax.scatter3D(x_data, y_data, z_data, c=z_data, cmap='Greens');"
   ]
  },
  {
   "cell_type": "code",
   "execution_count": 94,
   "metadata": {},
   "outputs": [
    {
     "name": "stdout",
     "output_type": "stream",
     "text": [
      "0.775280898876\n"
     ]
    }
   ],
   "source": [
    "d, k = 6, 40\n",
    "\n",
    "kmeans = train_kmeans_model(d, k, df_training)\n",
    "training = obtain_feature_vectors(d, kmeans, label_to_data_training)\n",
    "validation = obtain_feature_vectors(d, kmeans, label_to_data_validation)\n",
    "classifier = RandomForestClassifier(n_estimators=100)\n",
    "classifier.fit(training[0], training[1])\n",
    "classified_labels = classifier.predict(validation[0])\n",
    "accuracy = metrics.accuracy_score(validation[1], classified_labels)\n",
    "print accuracy"
   ]
  },
  {
   "cell_type": "code",
   "execution_count": 93,
   "metadata": {},
   "outputs": [
    {
     "name": "stdout",
     "output_type": "stream",
     "text": [
      "[[2 0 0 0 0 0 0 0 0 0 0 0 0 0]\n",
      " [0 8 0 0 0 0 0 0 0 0 0 0 0 0]\n",
      " [0 0 3 0 0 0 0 0 0 0 0 0 0 0]\n",
      " [0 0 0 3 0 0 0 0 0 0 0 0 0 0]\n",
      " [0 0 0 0 8 0 0 0 0 0 0 0 0 0]\n",
      " [0 0 0 0 0 1 0 0 0 0 0 0 0 0]\n",
      " [0 0 0 0 0 0 0 0 1 0 0 0 0 0]\n",
      " [0 0 0 0 0 0 0 0 0 0 0 0 0 2]\n",
      " [0 0 0 0 0 0 0 0 9 0 0 0 0 0]\n",
      " [0 0 0 0 0 0 0 0 0 2 0 0 6 0]\n",
      " [0 2 0 0 0 0 0 0 0 0 7 0 0 0]\n",
      " [0 0 0 0 0 0 0 0 1 0 0 0 0 1]\n",
      " [0 0 0 0 0 0 0 0 1 3 0 0 3 1]\n",
      " [0 1 0 0 0 0 0 0 0 2 0 0 3 3]]\n",
      "0.671232876712\n"
     ]
    }
   ],
   "source": [
    "d, k = 7, 57\n",
    "testing = obtain_feature_vectors(d, kmeans, label_to_data_testing)\n",
    "classified_labels = classifier.predict(testing[0])\n",
    "accuracy = metrics.accuracy_score(testing[1], classified_labels)\n",
    "print metrics.confusion_matrix(testing[1], classified_labels)\n",
    "print accuracy"
   ]
  },
  {
   "cell_type": "code",
   "execution_count": null,
   "metadata": {},
   "outputs": [],
   "source": []
  }
 ],
 "metadata": {
  "kernelspec": {
   "display_name": "Python 2",
   "language": "python",
   "name": "python2"
  },
  "language_info": {
   "codemirror_mode": {
    "name": "ipython",
    "version": 2
   },
   "file_extension": ".py",
   "mimetype": "text/x-python",
   "name": "python",
   "nbconvert_exporter": "python",
   "pygments_lexer": "ipython2",
   "version": "2.7.13"
  }
 },
 "nbformat": 4,
 "nbformat_minor": 2
}
